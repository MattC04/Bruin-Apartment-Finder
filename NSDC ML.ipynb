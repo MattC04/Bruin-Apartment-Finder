{
 "cells": [
  {
   "cell_type": "code",
   "execution_count": 1,
   "id": "ced05453",
   "metadata": {},
   "outputs": [],
   "source": [
    "import pandas as pd\n",
    "from matplotlib import pyplot as plt\n",
    "import numpy as np\n",
    "from sklearn.model_selection import train_test_split\n",
    "from sklearn import preprocessing\n",
    "from sklearn.model_selection import cross_val_score\n",
    "import seaborn as sns\n",
    "from sklearn.ensemble import RandomForestClassifier"
   ]
  },
  {
   "cell_type": "code",
   "execution_count": 2,
   "id": "4ca39aa1",
   "metadata": {},
   "outputs": [],
   "source": [
    "apts = pd.read_csv(\"modifieddist_apartment_data.tsv\", sep='\\t')"
   ]
  },
  {
   "cell_type": "code",
   "execution_count": 3,
   "id": "10d8c53e",
   "metadata": {},
   "outputs": [],
   "source": [
    "def prep_data(data_df):\n",
    "    \n",
    "    \"\"\"\n",
    "    A function that cleans the data in a given data frame and splits it into a target and predictor set\n",
    "    \n",
    "    Args:\n",
    "        data_df: a DataFrame\n",
    "        \n",
    "    Returns:\n",
    "        X: the values of the DataFrame in which the Sex column has been changed from MALE and FEMALE to 0s and 1s, and\n",
    "        from which the Species column has been dropped\n",
    "        y: the values of the DataFrame consisting of only the Species column\n",
    "    \"\"\"\n",
    "    \n",
    "    #creates a copy of the DataFrame\n",
    "    df = data_df.copy()\n",
    "    le = preprocessing.LabelEncoder()\n",
    "    \n",
    "    #drops all the NaN values\n",
    "    df = df[[\"bed_count\",\"total_sqft\",\"dist\",\"laundry\",\"furnished\", \"ac\", \"total_price\", \"built\", \"transitscore\"]].dropna()\n",
    "    \n",
    "    #encodes the column Sex, Species, and Island as integers\n",
    "    df['laundry'] = le.fit_transform(df['laundry'])\n",
    "    df['furnished'] = le.fit_transform(df['furnished'])\n",
    "    df['ac'] = le.fit_transform(df['ac'])\n",
    "    \n",
    "    df_copy = df.copy()\n",
    "\n",
    "    #dividing our data into predictor and target datasets\n",
    "    X = df.drop(['total_price'], axis = 1)\n",
    "    y = df['total_price']\n",
    "    \n",
    "    return(X, y, df_copy)"
   ]
  },
  {
   "cell_type": "code",
   "execution_count": 69,
   "id": "37fe9bc5",
   "metadata": {},
   "outputs": [],
   "source": [
    "# bed_count\n",
    "# total_sqft\n",
    "# dist\n",
    "# laundry\n",
    "# furnished\n",
    "# ac\n",
    "np.random.seed(1001) # 1001 - 90%\n",
    "train, test = train_test_split(apts, test_size = 0.2) "
   ]
  },
  {
   "cell_type": "code",
   "execution_count": 70,
   "id": "da9600f6",
   "metadata": {},
   "outputs": [],
   "source": [
    "X_train, y_train, cleaned_train = prep_data(train)\n",
    "X_test,  y_test, clean_test  = prep_data(test)"
   ]
  },
  {
   "cell_type": "code",
   "execution_count": 71,
   "id": "5030859f",
   "metadata": {},
   "outputs": [],
   "source": [
    "from sklearn.ensemble import RandomForestRegressor"
   ]
  },
  {
   "cell_type": "code",
   "execution_count": 88,
   "id": "e228c75a",
   "metadata": {},
   "outputs": [],
   "source": [
    "# Create the regressor\n",
    "regressor = RandomForestRegressor(max_depth = 8, n_estimators = 100, min_samples_split = 3)\n",
    "\n",
    "# Train the regressor on the training data\n",
    "regressor.fit(X_train, y_train)\n",
    "\n",
    "# Make predictions on the test set\n",
    "y_pred = regressor.predict(X_test)\n",
    "\n",
    "# Evaluate the model\n",
    "score = regressor.score(X_test, y_test)"
   ]
  },
  {
   "cell_type": "code",
   "execution_count": 89,
   "id": "3e212b07",
   "metadata": {},
   "outputs": [
    {
     "data": {
      "text/plain": [
       "0.9004302294592662"
      ]
     },
     "execution_count": 89,
     "metadata": {},
     "output_type": "execute_result"
    }
   ],
   "source": [
    "score "
   ]
  },
  {
   "cell_type": "code",
   "execution_count": null,
   "id": "5fb6feb2",
   "metadata": {},
   "outputs": [],
   "source": []
  }
 ],
 "metadata": {
  "kernelspec": {
   "display_name": "Python 3 (ipykernel)",
   "language": "python",
   "name": "python3"
  },
  "language_info": {
   "codemirror_mode": {
    "name": "ipython",
    "version": 3
   },
   "file_extension": ".py",
   "mimetype": "text/x-python",
   "name": "python",
   "nbconvert_exporter": "python",
   "pygments_lexer": "ipython3",
   "version": "3.10.9"
  }
 },
 "nbformat": 4,
 "nbformat_minor": 5
}
